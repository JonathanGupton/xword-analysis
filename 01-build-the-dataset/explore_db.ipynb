{
 "cells": [
  {
   "cell_type": "code",
   "id": "initial_id",
   "metadata": {
    "collapsed": true,
    "ExecuteTime": {
     "end_time": "2024-11-06T09:51:56.783991Z",
     "start_time": "2024-11-06T09:51:56.780567Z"
    }
   },
   "source": [
    "from crossword_db_funcs import *\n",
    "import sqlite3"
   ],
   "outputs": [],
   "execution_count": 1
  },
  {
   "metadata": {
    "ExecuteTime": {
     "end_time": "2024-11-06T09:51:58.133734Z",
     "start_time": "2024-11-06T09:51:58.120915Z"
    }
   },
   "cell_type": "code",
   "source": "create_crossword_db()\n",
   "id": "edaad7bf89d28780",
   "outputs": [],
   "execution_count": 2
  },
  {
   "metadata": {},
   "cell_type": "code",
   "outputs": [],
   "execution_count": null,
   "source": "# https://nytcrosswordanswers.org/",
   "id": "1dc46ed6730e5b20"
  },
  {
   "metadata": {
    "ExecuteTime": {
     "end_time": "2024-11-06T09:45:21.813829Z",
     "start_time": "2024-11-06T09:45:21.809733Z"
    }
   },
   "cell_type": "code",
   "source": [
    "dbpath = \"crossword.db\"\n",
    "conn = sqlite3.connect(dbpath)\n",
    "\n",
    "url_stub = r\"nyt-crossword-answers-09-08-14/\"\n",
    "processed = False\n",
    "date = \"09-08-14\"\n",
    "insert_crossword_url(conn, url_stub, processed, date)"
   ],
   "id": "b2dc12925953aea2",
   "outputs": [],
   "execution_count": 4
  },
  {
   "metadata": {},
   "cell_type": "code",
   "outputs": [],
   "execution_count": null,
   "source": "",
   "id": "5561fd5630205911"
  },
  {
   "metadata": {
    "ExecuteTime": {
     "end_time": "2024-11-06T19:15:29.294417Z",
     "start_time": "2024-11-06T19:15:29.287171Z"
    }
   },
   "cell_type": "code",
   "source": "",
   "id": "7eef2ceb1a05f7ee",
   "outputs": [],
   "execution_count": null
  },
  {
   "metadata": {},
   "cell_type": "code",
   "outputs": [],
   "execution_count": null,
   "source": "",
   "id": "755be12988e972f"
  },
  {
   "metadata": {},
   "cell_type": "code",
   "outputs": [],
   "execution_count": null,
   "source": "",
   "id": "4690c3f9dce79d52"
  },
  {
   "metadata": {},
   "cell_type": "code",
   "outputs": [],
   "execution_count": null,
   "source": "",
   "id": "3ac0dda2b7908070"
  },
  {
   "metadata": {},
   "cell_type": "code",
   "outputs": [],
   "execution_count": null,
   "source": "",
   "id": "1e4fb39aad9e22a9"
  },
  {
   "metadata": {},
   "cell_type": "code",
   "outputs": [],
   "execution_count": null,
   "source": "",
   "id": "c04fc3ee5a379ab0"
  },
  {
   "metadata": {},
   "cell_type": "code",
   "outputs": [],
   "execution_count": null,
   "source": "",
   "id": "432a9c709e217843"
  },
  {
   "metadata": {},
   "cell_type": "code",
   "outputs": [],
   "execution_count": null,
   "source": "",
   "id": "d4b367c9fae73e0b"
  },
  {
   "metadata": {},
   "cell_type": "code",
   "outputs": [],
   "execution_count": null,
   "source": "",
   "id": "b087d1b92cfbb002"
  },
  {
   "metadata": {},
   "cell_type": "code",
   "outputs": [],
   "execution_count": null,
   "source": "",
   "id": "88b11657e974df09"
  },
  {
   "metadata": {},
   "cell_type": "code",
   "outputs": [],
   "execution_count": null,
   "source": "",
   "id": "b965afc34133c360"
  },
  {
   "metadata": {},
   "cell_type": "code",
   "outputs": [],
   "execution_count": null,
   "source": "",
   "id": "cebb2b48602fa4f9"
  },
  {
   "metadata": {},
   "cell_type": "code",
   "outputs": [],
   "execution_count": null,
   "source": "",
   "id": "b380146afb4213a1"
  }
 ],
 "metadata": {
  "kernelspec": {
   "display_name": "Python 3",
   "language": "python",
   "name": "python3"
  },
  "language_info": {
   "codemirror_mode": {
    "name": "ipython",
    "version": 2
   },
   "file_extension": ".py",
   "mimetype": "text/x-python",
   "name": "python",
   "nbconvert_exporter": "python",
   "pygments_lexer": "ipython2",
   "version": "2.7.6"
  }
 },
 "nbformat": 4,
 "nbformat_minor": 5
}
